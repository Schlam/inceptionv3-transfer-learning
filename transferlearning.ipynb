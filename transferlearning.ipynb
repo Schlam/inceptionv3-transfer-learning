{
 "cells": [
  {
   "cell_type": "markdown",
   "metadata": {
    "colab_type": "text",
    "id": "FVI51A5R3kjB"
   },
   "source": [
    "# Image recognition using transfer learning\n",
    "---\n",
    "## InceptionV3\n",
    "\n",
    "![](https://miro.medium.com/max/2000/0*te3xksOrVytM-B17)\n",
    "\n",
    "A link to the paper can be found here: https://arxiv.org/pdf/1512.00567.pdf"
   ]
  },
  {
   "cell_type": "markdown",
   "metadata": {
    "colab_type": "text",
    "id": "MfgEkCOtpvZ6"
   },
   "source": [
    "#### Read in data from tensorflow datasets"
   ]
  },
  {
   "cell_type": "code",
   "execution_count": 1,
   "metadata": {
    "colab": {
     "base_uri": "https://localhost:8080/",
     "height": 194
    },
    "colab_type": "code",
    "id": "jwBCMuyies6l",
    "outputId": "ab3e1fb4-ceb1-4503-8e82-daf64b03f047"
   },
   "outputs": [
    {
     "name": "stdout",
     "output_type": "stream",
     "text": [
      "Dataset info:\n",
      " Caltech-UCSD Birds 200 (CUB-200) is an image dataset with photos \n",
      "of 200 bird species (mostly North American). The total number of \n",
      "categories of birds is 200 and there are 6033 images in the 2010 \n",
      "dataset and 11,788 images in the 2011 dataset.\n",
      "Annotations include bounding boxes, segmentation labels.\n"
     ]
    }
   ],
   "source": [
    "import tensorflow_datasets as tfds\n",
    "import tensorflow as tf\n",
    "\n",
    "# load Caltech Birds dataset from 2011\n",
    "(train_ds, val_ds), ds_info = tfds.load('caltech_birds2011',\n",
    "    split=['train','test'],\n",
    "    shuffle_files=True,as_supervised=True,with_info=True)\n",
    "\n",
    "print(\"Dataset info:\\n\", ds_info.description)"
   ]
  },
  {
   "cell_type": "markdown",
   "metadata": {
    "colab_type": "text",
    "id": "ynQ7yy0Vp9qk"
   },
   "source": [
    "#### Data preprocessing\n",
    "- normalize each image (256-bit color to float in [0,1])\n",
    "- pad and rescale (shrink/enlarge dimensiona to 300px, adding white space when nesessary)\n",
    "- batch images (number of images to be held in memory for each epoch )\n",
    "- prefetch (during training step s, allow the data for training step s+1 to be loaded to optimize runtime )"
   ]
  },
  {
   "cell_type": "code",
   "execution_count": 2,
   "metadata": {
    "colab": {},
    "colab_type": "code",
    "id": "yAuvFxZvsqj8"
   },
   "outputs": [],
   "source": [
    "# Set batch size and image dimensions allowed by your memory resources\n",
    "batch_size = 128\n",
    "image_height = 300\n",
    "image_width = 300\n",
    "\n",
    "def format_dataset(data):\n",
    "    norm = lambda image,label:(tf.cast(image, tf.float32) / 255., label)\n",
    "    pad = lambda image,label:(tf.image.resize_with_pad(image,image_height,image_width), label)\n",
    "    data = data.map(norm, num_parallel_calls=tf.data.experimental.AUTOTUNE)\n",
    "    data = data.map(pad, num_parallel_calls=tf.data.experimental.AUTOTUNE)\n",
    "    data = data.batch(batch_size)\n",
    "    data = data.prefetch(tf.data.experimental.AUTOTUNE)\n",
    "    return data\n",
    "\n",
    "# Prepare validation data\n",
    "train_ds, val_ds = tuple(map(format_dataset,[train_ds,val_ds]))"
   ]
  },
  {
   "cell_type": "markdown",
   "metadata": {
    "colab_type": "text",
    "id": "ezUwIZAlqGky"
   },
   "source": [
    "#### Load in model"
   ]
  },
  {
   "cell_type": "code",
   "execution_count": 4,
   "metadata": {
    "colab": {
     "base_uri": "https://localhost:8080/",
     "height": 34
    },
    "colab_type": "code",
    "id": "zlq6-QWfsu-m",
    "outputId": "83148d72-db0b-4dd4-93ee-0192c4b28a9c"
   },
   "outputs": [],
   "source": [
    "from tensorflow.keras.applications.inception_v3 import InceptionV3\n",
    "\n",
    "\n",
    "pretrained_model = InceptionV3(input_shape=(image_height,image_width,3),\n",
    "                               include_top=False,\n",
    "                               weights='imagenet')\n",
    "\n",
    "# Iterate through layers and make untrainable\n",
    "for layer in pretrained_model.layers:\n",
    "    layer.trainable = False\n",
    "\n",
    "# Flatten the output, and add fully connected layer with a node for each class\n",
    "x = tf.keras.layers.Flatten()(pretrained_model.output)\n",
    "x = tf.keras.layers.Dense(256, activation='tanh')(x)\n",
    "x = tf.keras.layers.Dropout(0.1)(x)\n",
    "x = tf.keras.layers.Dense(200, activation='softmax')(x)\n",
    "\n",
    "# Adjust learning rate while training with LearningRateScheduler\n",
    "lr_scheduler = tf.keras.callbacks.LearningRateScheduler(lambda epoch: 1e-8 * 10**((100-epoch) / 20))\n",
    "optimizer = tf.keras.optimizers.Adam()\n",
    "\n",
    "\n",
    "# Use our model as the input layer\n",
    "model = tf.keras.Model(pretrained_model.input, x)\n",
    "model.compile(\n",
    "    loss='sparse_categorical_crossentropy',\n",
    "    optimizer=optimizer,\n",
    "    metrics=['accuracy']\n",
    ")\n",
    "\n",
    "\"\"\"Uncomment the last line to see the model summary. Warning: it is very long\"\"\" \n",
    "#model.summary()"
   ]
  },
  {
   "cell_type": "markdown",
   "metadata": {
    "colab_type": "text",
    "id": "nNq-MTa24MHR"
   },
   "source": [
    "# Model Training\n",
    "\n",
    "We being by importing the pretrained model and setting the input shape to match the images we seek to classify"
   ]
  },
  {
   "cell_type": "code",
   "execution_count": 0,
   "metadata": {
    "colab": {
     "base_uri": "https://localhost:8080/",
     "height": 1000
    },
    "colab_type": "code",
    "id": "RUhtLgx6hEUT",
    "outputId": "2a9a1dff-9ce3-44dc-e6d4-95c5190237f7"
   },
   "outputs": [
    {
     "name": "stdout",
     "output_type": "stream",
     "text": [
      "Epoch 1/100\n",
      "47/47 [==============================] - 27s 576ms/step - loss: 5.3919 - accuracy: 0.0165 - val_loss: 5.0603 - val_accuracy: 0.0343 - lr: 0.0010\n",
      "Epoch 2/100\n",
      "47/47 [==============================] - 26s 553ms/step - loss: 4.9780 - accuracy: 0.0382 - val_loss: 4.7690 - val_accuracy: 0.0654 - lr: 8.9125e-04\n",
      "Epoch 3/100\n",
      "47/47 [==============================] - 26s 549ms/step - loss: 4.7160 - accuracy: 0.0591 - val_loss: 4.5656 - val_accuracy: 0.0768 - lr: 7.9433e-04\n",
      "Epoch 4/100\n",
      "47/47 [==============================] - 25s 530ms/step - loss: 4.4635 - accuracy: 0.0841 - val_loss: 4.3461 - val_accuracy: 0.0977 - lr: 7.0795e-04\n",
      "Epoch 5/100\n",
      "47/47 [==============================] - 26s 551ms/step - loss: 4.2438 - accuracy: 0.1118 - val_loss: 4.1692 - val_accuracy: 0.1229 - lr: 6.3096e-04\n",
      "Epoch 6/100\n",
      "47/47 [==============================] - 26s 555ms/step - loss: 4.0170 - accuracy: 0.1468 - val_loss: 3.9675 - val_accuracy: 0.1588 - lr: 5.6234e-04\n",
      "Epoch 7/100\n",
      "47/47 [==============================] - 26s 556ms/step - loss: 3.8385 - accuracy: 0.1662 - val_loss: 3.8347 - val_accuracy: 0.1807 - lr: 5.0119e-04\n",
      "Epoch 8/100\n",
      "47/47 [==============================] - 25s 542ms/step - loss: 3.6984 - accuracy: 0.1937 - val_loss: 3.7154 - val_accuracy: 0.1873 - lr: 4.4668e-04\n",
      "Epoch 9/100\n",
      "47/47 [==============================] - 26s 549ms/step - loss: 3.5380 - accuracy: 0.2289 - val_loss: 3.5952 - val_accuracy: 0.2218 - lr: 3.9811e-04\n",
      "Epoch 10/100\n",
      "47/47 [==============================] - 26s 555ms/step - loss: 3.3862 - accuracy: 0.2664 - val_loss: 3.5028 - val_accuracy: 0.2270 - lr: 3.5481e-04\n",
      "Epoch 11/100\n",
      "47/47 [==============================] - 25s 542ms/step - loss: 3.2787 - accuracy: 0.2826 - val_loss: 3.4163 - val_accuracy: 0.2351 - lr: 3.1623e-04\n",
      "Epoch 12/100\n",
      "47/47 [==============================] - 26s 552ms/step - loss: 3.1589 - accuracy: 0.3175 - val_loss: 3.3525 - val_accuracy: 0.2509 - lr: 2.8184e-04\n",
      "Epoch 13/100\n",
      "47/47 [==============================] - 26s 551ms/step - loss: 3.0708 - accuracy: 0.3315 - val_loss: 3.3067 - val_accuracy: 0.2534 - lr: 2.5119e-04\n",
      "Epoch 14/100\n",
      "47/47 [==============================] - 26s 550ms/step - loss: 2.9858 - accuracy: 0.3550 - val_loss: 3.2519 - val_accuracy: 0.2677 - lr: 2.2387e-04\n",
      "Epoch 15/100\n",
      "47/47 [==============================] - 26s 558ms/step - loss: 2.8975 - accuracy: 0.3820 - val_loss: 3.1999 - val_accuracy: 0.2753 - lr: 1.9953e-04\n",
      "Epoch 16/100\n",
      "47/47 [==============================] - 26s 551ms/step - loss: 2.8249 - accuracy: 0.4096 - val_loss: 3.1533 - val_accuracy: 0.2862 - lr: 1.7783e-04\n",
      "Epoch 17/100\n",
      "47/47 [==============================] - 26s 544ms/step - loss: 2.7464 - accuracy: 0.4309 - val_loss: 3.1212 - val_accuracy: 0.2893 - lr: 1.5849e-04\n",
      "Epoch 18/100\n",
      "47/47 [==============================] - 26s 548ms/step - loss: 2.6799 - accuracy: 0.4426 - val_loss: 3.0930 - val_accuracy: 0.2843 - lr: 1.4125e-04\n",
      "Epoch 19/100\n",
      "47/47 [==============================] - 26s 551ms/step - loss: 2.6361 - accuracy: 0.4613 - val_loss: 3.0668 - val_accuracy: 0.2963 - lr: 1.2589e-04\n",
      "Epoch 20/100\n",
      "47/47 [==============================] - 25s 541ms/step - loss: 2.5617 - accuracy: 0.4760 - val_loss: 3.0345 - val_accuracy: 0.3000 - lr: 1.1220e-04\n",
      "Epoch 21/100\n",
      "47/47 [==============================] - 26s 551ms/step - loss: 2.5211 - accuracy: 0.4995 - val_loss: 3.0203 - val_accuracy: 0.3089 - lr: 1.0000e-04\n",
      "Epoch 22/100\n",
      "47/47 [==============================] - 26s 543ms/step - loss: 2.4742 - accuracy: 0.5097 - val_loss: 2.9979 - val_accuracy: 0.3074 - lr: 8.9125e-05\n",
      "Epoch 23/100\n",
      "47/47 [==============================] - 26s 557ms/step - loss: 2.4308 - accuracy: 0.5245 - val_loss: 2.9851 - val_accuracy: 0.3131 - lr: 7.9433e-05\n",
      "Epoch 24/100\n",
      "47/47 [==============================] - 26s 558ms/step - loss: 2.3832 - accuracy: 0.5465 - val_loss: 2.9680 - val_accuracy: 0.3145 - lr: 7.0795e-05\n",
      "Epoch 25/100\n",
      "47/47 [==============================] - 26s 549ms/step - loss: 2.3516 - accuracy: 0.5552 - val_loss: 2.9547 - val_accuracy: 0.3186 - lr: 6.3096e-05\n",
      "Epoch 26/100\n",
      "47/47 [==============================] - 26s 555ms/step - loss: 2.3215 - accuracy: 0.5692 - val_loss: 2.9487 - val_accuracy: 0.3203 - lr: 5.6234e-05\n",
      "Epoch 27/100\n",
      "47/47 [==============================] - 26s 554ms/step - loss: 2.3031 - accuracy: 0.5684 - val_loss: 2.9399 - val_accuracy: 0.3269 - lr: 5.0119e-05\n",
      "Epoch 28/100\n",
      "47/47 [==============================] - 25s 539ms/step - loss: 2.2753 - accuracy: 0.5848 - val_loss: 2.9291 - val_accuracy: 0.3279 - lr: 4.4668e-05\n",
      "Epoch 29/100\n",
      "47/47 [==============================] - 26s 548ms/step - loss: 2.2527 - accuracy: 0.5898 - val_loss: 2.9228 - val_accuracy: 0.3269 - lr: 3.9811e-05\n",
      "Epoch 30/100\n",
      "47/47 [==============================] - 26s 550ms/step - loss: 2.2335 - accuracy: 0.5986 - val_loss: 2.9179 - val_accuracy: 0.3226 - lr: 3.5481e-05\n",
      "Epoch 31/100\n",
      "47/47 [==============================] - 26s 560ms/step - loss: 2.2139 - accuracy: 0.6016 - val_loss: 2.9116 - val_accuracy: 0.3281 - lr: 3.1623e-05\n",
      "Epoch 32/100\n",
      "47/47 [==============================] - 26s 547ms/step - loss: 2.2174 - accuracy: 0.5969 - val_loss: 2.9074 - val_accuracy: 0.3284 - lr: 2.8184e-05\n",
      "Epoch 33/100\n",
      "47/47 [==============================] - 26s 554ms/step - loss: 2.1866 - accuracy: 0.6061 - val_loss: 2.9027 - val_accuracy: 0.3307 - lr: 2.5119e-05\n",
      "Epoch 34/100\n",
      "47/47 [==============================] - 26s 546ms/step - loss: 2.1783 - accuracy: 0.6171 - val_loss: 2.8988 - val_accuracy: 0.3328 - lr: 2.2387e-05\n",
      "Epoch 35/100\n",
      "47/47 [==============================] - 26s 558ms/step - loss: 2.1737 - accuracy: 0.6151 - val_loss: 2.8952 - val_accuracy: 0.3326 - lr: 1.9953e-05\n",
      "Epoch 36/100\n",
      "47/47 [==============================] - 26s 558ms/step - loss: 2.1581 - accuracy: 0.6190 - val_loss: 2.8934 - val_accuracy: 0.3334 - lr: 1.7783e-05\n",
      "Epoch 37/100\n",
      "47/47 [==============================] - 26s 544ms/step - loss: 2.1539 - accuracy: 0.6240 - val_loss: 2.8917 - val_accuracy: 0.3317 - lr: 1.5849e-05\n",
      "Epoch 38/100\n",
      "47/47 [==============================] - 28s 588ms/step - loss: 2.1412 - accuracy: 0.6266 - val_loss: 2.8898 - val_accuracy: 0.3315 - lr: 1.4125e-05\n",
      "Epoch 39/100\n",
      "47/47 [==============================] - 26s 553ms/step - loss: 2.1382 - accuracy: 0.6305 - val_loss: 2.8882 - val_accuracy: 0.3298 - lr: 1.2589e-05\n",
      "Epoch 40/100\n",
      "47/47 [==============================] - 26s 546ms/step - loss: 2.1325 - accuracy: 0.6280 - val_loss: 2.8872 - val_accuracy: 0.3297 - lr: 1.1220e-05\n",
      "Epoch 41/100\n",
      "47/47 [==============================] - 26s 544ms/step - loss: 2.1356 - accuracy: 0.6201 - val_loss: 2.8858 - val_accuracy: 0.3300 - lr: 1.0000e-05\n",
      "Epoch 42/100\n",
      "47/47 [==============================] - 26s 552ms/step - loss: 2.1257 - accuracy: 0.6326 - val_loss: 2.8847 - val_accuracy: 0.3293 - lr: 8.9125e-06\n",
      "Epoch 43/100\n",
      "47/47 [==============================] - 25s 539ms/step - loss: 2.1210 - accuracy: 0.6321 - val_loss: 2.8839 - val_accuracy: 0.3298 - lr: 7.9433e-06\n",
      "Epoch 44/100\n",
      "47/47 [==============================] - 25s 526ms/step - loss: 2.1234 - accuracy: 0.6295 - val_loss: 2.8828 - val_accuracy: 0.3295 - lr: 7.0795e-06\n",
      "Epoch 45/100\n",
      "47/47 [==============================] - 26s 546ms/step - loss: 2.1112 - accuracy: 0.6391 - val_loss: 2.8821 - val_accuracy: 0.3302 - lr: 6.3096e-06\n",
      "Epoch 46/100\n",
      "47/47 [==============================] - 26s 548ms/step - loss: 2.1138 - accuracy: 0.6320 - val_loss: 2.8815 - val_accuracy: 0.3300 - lr: 5.6234e-06\n",
      "Epoch 47/100\n",
      "47/47 [==============================] - 26s 546ms/step - loss: 2.1140 - accuracy: 0.6398 - val_loss: 2.8808 - val_accuracy: 0.3305 - lr: 5.0119e-06\n",
      "Epoch 48/100\n",
      "47/47 [==============================] - 26s 548ms/step - loss: 2.1181 - accuracy: 0.6368 - val_loss: 2.8802 - val_accuracy: 0.3303 - lr: 4.4668e-06\n",
      "Epoch 49/100\n",
      "47/47 [==============================] - 27s 569ms/step - loss: 2.1244 - accuracy: 0.6360 - val_loss: 2.8797 - val_accuracy: 0.3303 - lr: 3.9811e-06\n",
      "Epoch 50/100\n",
      "47/47 [==============================] - 27s 572ms/step - loss: 2.1120 - accuracy: 0.6350 - val_loss: 2.8793 - val_accuracy: 0.3302 - lr: 3.5481e-06\n",
      "Epoch 51/100\n",
      "47/47 [==============================] - 27s 577ms/step - loss: 2.1115 - accuracy: 0.6356 - val_loss: 2.8788 - val_accuracy: 0.3309 - lr: 3.1623e-06\n",
      "Epoch 52/100\n",
      "47/47 [==============================] - 26s 564ms/step - loss: 2.1075 - accuracy: 0.6376 - val_loss: 2.8785 - val_accuracy: 0.3302 - lr: 2.8184e-06\n",
      "Epoch 53/100\n",
      "47/47 [==============================] - 25s 536ms/step - loss: 2.1103 - accuracy: 0.6381 - val_loss: 2.8781 - val_accuracy: 0.3297 - lr: 2.5119e-06\n",
      "Epoch 54/100\n",
      "47/47 [==============================] - 26s 563ms/step - loss: 2.1094 - accuracy: 0.6356 - val_loss: 2.8778 - val_accuracy: 0.3302 - lr: 2.2387e-06\n",
      "Epoch 55/100\n",
      "47/47 [==============================] - 26s 556ms/step - loss: 2.1085 - accuracy: 0.6345 - val_loss: 2.8775 - val_accuracy: 0.3297 - lr: 1.9953e-06\n",
      "Epoch 56/100\n",
      "47/47 [==============================] - 26s 548ms/step - loss: 2.1054 - accuracy: 0.6305 - val_loss: 2.8773 - val_accuracy: 0.3297 - lr: 1.7783e-06\n",
      "Epoch 57/100\n",
      "47/47 [==============================] - 26s 553ms/step - loss: 2.1097 - accuracy: 0.6411 - val_loss: 2.8770 - val_accuracy: 0.3293 - lr: 1.5849e-06\n",
      "Epoch 58/100\n",
      "47/47 [==============================] - 26s 554ms/step - loss: 2.1053 - accuracy: 0.6315 - val_loss: 2.8768 - val_accuracy: 0.3297 - lr: 1.4125e-06\n",
      "Epoch 59/100\n",
      "47/47 [==============================] - 26s 550ms/step - loss: 2.1125 - accuracy: 0.6255 - val_loss: 2.8766 - val_accuracy: 0.3298 - lr: 1.2589e-06\n",
      "Epoch 60/100\n",
      "47/47 [==============================] - 26s 552ms/step - loss: 2.1097 - accuracy: 0.6398 - val_loss: 2.8764 - val_accuracy: 0.3300 - lr: 1.1220e-06\n",
      "Epoch 61/100\n",
      "47/47 [==============================] - 26s 552ms/step - loss: 2.1079 - accuracy: 0.6365 - val_loss: 2.8763 - val_accuracy: 0.3302 - lr: 1.0000e-06\n",
      "Epoch 62/100\n",
      "47/47 [==============================] - 26s 556ms/step - loss: 2.1021 - accuracy: 0.6405 - val_loss: 2.8762 - val_accuracy: 0.3298 - lr: 8.9125e-07\n",
      "Epoch 63/100\n",
      "47/47 [==============================] - 26s 554ms/step - loss: 2.1014 - accuracy: 0.6386 - val_loss: 2.8761 - val_accuracy: 0.3298 - lr: 7.9433e-07\n",
      "Epoch 64/100\n",
      "47/47 [==============================] - 26s 559ms/step - loss: 2.1046 - accuracy: 0.6326 - val_loss: 2.8760 - val_accuracy: 0.3302 - lr: 7.0795e-07\n",
      "Epoch 65/100\n",
      "47/47 [==============================] - 26s 558ms/step - loss: 2.1042 - accuracy: 0.6343 - val_loss: 2.8759 - val_accuracy: 0.3298 - lr: 6.3096e-07\n",
      "Epoch 66/100\n",
      "47/47 [==============================] - 26s 559ms/step - loss: 2.1083 - accuracy: 0.6361 - val_loss: 2.8758 - val_accuracy: 0.3300 - lr: 5.6234e-07\n",
      "Epoch 67/100\n",
      "47/47 [==============================] - 26s 555ms/step - loss: 2.1092 - accuracy: 0.6373 - val_loss: 2.8758 - val_accuracy: 0.3302 - lr: 5.0119e-07\n",
      "Epoch 68/100\n",
      "47/47 [==============================] - 26s 556ms/step - loss: 2.1051 - accuracy: 0.6385 - val_loss: 2.8757 - val_accuracy: 0.3302 - lr: 4.4668e-07\n",
      "Epoch 69/100\n",
      "47/47 [==============================] - 27s 565ms/step - loss: 2.1023 - accuracy: 0.6368 - val_loss: 2.8756 - val_accuracy: 0.3298 - lr: 3.9811e-07\n",
      "Epoch 70/100\n",
      "47/47 [==============================] - 26s 553ms/step - loss: 2.1027 - accuracy: 0.6385 - val_loss: 2.8756 - val_accuracy: 0.3300 - lr: 3.5481e-07\n",
      "Epoch 71/100\n",
      "47/47 [==============================] - 26s 552ms/step - loss: 2.0991 - accuracy: 0.6373 - val_loss: 2.8756 - val_accuracy: 0.3300 - lr: 3.1623e-07\n",
      "Epoch 72/100\n",
      "47/47 [==============================] - 26s 554ms/step - loss: 2.0930 - accuracy: 0.6421 - val_loss: 2.8755 - val_accuracy: 0.3300 - lr: 2.8184e-07\n",
      "Epoch 73/100\n",
      "47/47 [==============================] - 26s 560ms/step - loss: 2.1052 - accuracy: 0.6360 - val_loss: 2.8755 - val_accuracy: 0.3303 - lr: 2.5119e-07\n",
      "Epoch 74/100\n",
      "47/47 [==============================] - 26s 554ms/step - loss: 2.0989 - accuracy: 0.6371 - val_loss: 2.8755 - val_accuracy: 0.3302 - lr: 2.2387e-07\n",
      "Epoch 75/100\n",
      "47/47 [==============================] - 26s 561ms/step - loss: 2.1039 - accuracy: 0.6326 - val_loss: 2.8754 - val_accuracy: 0.3302 - lr: 1.9953e-07\n",
      "Epoch 76/100\n",
      "47/47 [==============================] - 26s 558ms/step - loss: 2.0994 - accuracy: 0.6390 - val_loss: 2.8754 - val_accuracy: 0.3302 - lr: 1.7783e-07\n",
      "Epoch 77/100\n",
      "47/47 [==============================] - 27s 565ms/step - loss: 2.1175 - accuracy: 0.6383 - val_loss: 2.8754 - val_accuracy: 0.3302 - lr: 1.5849e-07\n",
      "Epoch 78/100\n",
      "47/47 [==============================] - 27s 568ms/step - loss: 2.1075 - accuracy: 0.6338 - val_loss: 2.8754 - val_accuracy: 0.3302 - lr: 1.4125e-07\n",
      "Epoch 79/100\n",
      "47/47 [==============================] - 27s 568ms/step - loss: 2.0994 - accuracy: 0.6410 - val_loss: 2.8754 - val_accuracy: 0.3300 - lr: 1.2589e-07\n",
      "Epoch 80/100\n",
      "47/47 [==============================] - 26s 560ms/step - loss: 2.1004 - accuracy: 0.6403 - val_loss: 2.8753 - val_accuracy: 0.3300 - lr: 1.1220e-07\n",
      "Epoch 81/100\n",
      "47/47 [==============================] - 27s 565ms/step - loss: 2.1030 - accuracy: 0.6445 - val_loss: 2.8753 - val_accuracy: 0.3298 - lr: 1.0000e-07\n",
      "Epoch 82/100\n",
      "47/47 [==============================] - 27s 567ms/step - loss: 2.1038 - accuracy: 0.6386 - val_loss: 2.8753 - val_accuracy: 0.3298 - lr: 8.9125e-08\n",
      "Epoch 83/100\n",
      "47/47 [==============================] - 26s 558ms/step - loss: 2.1009 - accuracy: 0.6355 - val_loss: 2.8753 - val_accuracy: 0.3298 - lr: 7.9433e-08\n",
      "Epoch 84/100\n",
      "47/47 [==============================] - 27s 568ms/step - loss: 2.1061 - accuracy: 0.6376 - val_loss: 2.8753 - val_accuracy: 0.3300 - lr: 7.0795e-08\n",
      "Epoch 85/100\n",
      "47/47 [==============================] - 26s 555ms/step - loss: 2.1016 - accuracy: 0.6386 - val_loss: 2.8753 - val_accuracy: 0.3300 - lr: 6.3096e-08\n",
      "Epoch 86/100\n",
      "47/47 [==============================] - 26s 559ms/step - loss: 2.0945 - accuracy: 0.6460 - val_loss: 2.8753 - val_accuracy: 0.3300 - lr: 5.6234e-08\n",
      "Epoch 87/100\n",
      "47/47 [==============================] - 27s 571ms/step - loss: 2.0963 - accuracy: 0.6396 - val_loss: 2.8753 - val_accuracy: 0.3300 - lr: 5.0119e-08\n",
      "Epoch 88/100\n",
      "47/47 [==============================] - 26s 562ms/step - loss: 2.1023 - accuracy: 0.6373 - val_loss: 2.8753 - val_accuracy: 0.3300 - lr: 4.4668e-08\n",
      "Epoch 89/100\n",
      "47/47 [==============================] - 26s 564ms/step - loss: 2.0975 - accuracy: 0.6360 - val_loss: 2.8753 - val_accuracy: 0.3300 - lr: 3.9811e-08\n",
      "Epoch 90/100\n",
      "47/47 [==============================] - 26s 555ms/step - loss: 2.0992 - accuracy: 0.6420 - val_loss: 2.8752 - val_accuracy: 0.3300 - lr: 3.5481e-08\n",
      "Epoch 91/100\n",
      "47/47 [==============================] - 27s 582ms/step - loss: 2.1064 - accuracy: 0.6328 - val_loss: 2.8752 - val_accuracy: 0.3300 - lr: 3.1623e-08\n",
      "Epoch 92/100\n",
      "47/47 [==============================] - 28s 595ms/step - loss: 2.1116 - accuracy: 0.6333 - val_loss: 2.8752 - val_accuracy: 0.3300 - lr: 2.8184e-08\n",
      "Epoch 93/100\n",
      "47/47 [==============================] - 27s 570ms/step - loss: 2.0946 - accuracy: 0.6413 - val_loss: 2.8752 - val_accuracy: 0.3300 - lr: 2.5119e-08\n",
      "Epoch 94/100\n",
      "47/47 [==============================] - 27s 567ms/step - loss: 2.1035 - accuracy: 0.6348 - val_loss: 2.8752 - val_accuracy: 0.3300 - lr: 2.2387e-08\n",
      "Epoch 95/100\n",
      "47/47 [==============================] - 27s 568ms/step - loss: 2.1039 - accuracy: 0.6350 - val_loss: 2.8752 - val_accuracy: 0.3300 - lr: 1.9953e-08\n",
      "Epoch 96/100\n",
      "47/47 [==============================] - 27s 564ms/step - loss: 2.1030 - accuracy: 0.6346 - val_loss: 2.8752 - val_accuracy: 0.3300 - lr: 1.7783e-08\n",
      "Epoch 97/100\n",
      "47/47 [==============================] - 26s 560ms/step - loss: 2.1063 - accuracy: 0.6351 - val_loss: 2.8752 - val_accuracy: 0.3300 - lr: 1.5849e-08\n",
      "Epoch 98/100\n",
      "47/47 [==============================] - 26s 561ms/step - loss: 2.1045 - accuracy: 0.6366 - val_loss: 2.8752 - val_accuracy: 0.3300 - lr: 1.4125e-08\n",
      "Epoch 99/100\n",
      "47/47 [==============================] - 26s 562ms/step - loss: 2.1086 - accuracy: 0.6335 - val_loss: 2.8752 - val_accuracy: 0.3300 - lr: 1.2589e-08\n",
      "Epoch 100/100\n",
      "47/47 [==============================] - 26s 563ms/step - loss: 2.1035 - accuracy: 0.6353 - val_loss: 2.8752 - val_accuracy: 0.3300 - lr: 1.1220e-08\n"
     ]
    }
   ],
   "source": [
    "# Fit the model\n",
    "history = model.fit(\n",
    "    train_ds,\n",
    "    epochs=100,\n",
    "    shuffle=False,\n",
    "    batch_size=batch_size,\n",
    "    validation_data=val_ds,\n",
    "    callbacks=[lr_scheduler]\n",
    ")"
   ]
  },
  {
   "cell_type": "code",
   "execution_count": 0,
   "metadata": {
    "colab": {
     "base_uri": "https://localhost:8080/",
     "height": 281
    },
    "colab_type": "code",
    "id": "yaDlKQjqYIn1",
    "outputId": "b824d91a-f8fe-4cf6-ae35-b6e89d2e542d"
   },
   "outputs": [
    {
     "data": {
      "image/png": "[encoded data removed]",
      "text/plain": [
       "<Figure size 432x288 with 1 Axes>"
      ]
     },
     "metadata": {
      "needs_background": "light",
      "tags": []
     },
     "output_type": "display_data"
    }
   ],
   "source": [
    "acc = history.history['accuracy']\n",
    "val = history.history['val_accuracy']\n",
    "\n",
    "plt.title('Model Accuracy')\n",
    "plt.plot(range(100), acc, label='Training Accuracy')\n",
    "plt.plot(range(100), val, label='Validation Accuracy')\n",
    "plt.yticks([i / 10.0 for i in range(10)])\n",
    "plt.ylim([0,.9])\n",
    "plt.grid()\n",
    "plt.legend()\n",
    "plt.show()"
   ]
  }
 ],
 "metadata": {
  "accelerator": "GPU",
  "colab": {
   "collapsed_sections": [],
   "machine_shape": "hm",
   "name": "Copy of Copy of transfer_learning.ipynb",
   "provenance": []
  },
  "kernelspec": {
   "display_name": "Python 3",
   "language": "python",
   "name": "python3"
  },
  "language_info": {
   "codemirror_mode": {
    "name": "ipython",
    "version": 3
   },
   "file_extension": ".py",
   "mimetype": "text/x-python",
   "name": "python",
   "nbconvert_exporter": "python",
   "pygments_lexer": "ipython3",
   "version": "3.7.4"
  }
 },
 "nbformat": 4,
 "nbformat_minor": 1
}
